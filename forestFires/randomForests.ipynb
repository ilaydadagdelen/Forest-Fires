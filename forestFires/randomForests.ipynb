{
 "cells": [
  {
   "cell_type": "code",
   "execution_count": 1,
   "metadata": {},
   "outputs": [
    {
     "name": "stdout",
     "output_type": "stream",
     "text": [
      "Ortalama Kare Hata (MSE):  11670.271881558545\n",
      "RMSE:  108.02903258642347\n",
      "R^2 skoru:  0.009967136929671327\n",
      "Fitting 10 folds for each of 81 candidates, totalling 810 fits\n"
     ]
    },
    {
     "name": "stderr",
     "output_type": "stream",
     "text": [
      "c:\\Users\\ilayd\\AppData\\Local\\Programs\\Python\\Python312\\Lib\\site-packages\\numpy\\ma\\core.py:2846: RuntimeWarning: invalid value encountered in cast\n",
      "  _data = np.array(data, dtype=dtype, copy=copy,\n"
     ]
    },
    {
     "name": "stdout",
     "output_type": "stream",
     "text": [
      "Best params değerleri:  {'max_depth': 3, 'max_features': 2, 'min_samples_split': 10, 'n_estimators': 300}\n",
      "Tuned edilmiş model:  RandomForestRegressor(max_depth=8, max_features=2, n_estimators=200,\n",
      "                      random_state=42)\n",
      "Tune edilmiş modelin test RMSE hata değeri:  107.59834755896149\n"
     ]
    }
   ],
   "source": [
    "import pandas as pd\n",
    "import numpy as np\n",
    "from sklearn.model_selection import train_test_split, GridSearchCV\n",
    "from sklearn.ensemble import RandomForestRegressor\n",
    "from sklearn.metrics import mean_squared_error, r2_score\n",
    "import matplotlib.pyplot as plt\n",
    "\n",
    "data = pd.read_csv('forestfires.csv')\n",
    "\n",
    "X = data[['FFMC', 'DMC', 'DC', 'ISI', 'temp', 'RH', 'wind', 'rain']]\n",
    "y = data['area']\n",
    "\n",
    "X_train, X_test, y_train, y_test = train_test_split(X, y, test_size=0.2, random_state=42)\n",
    "\n",
    "model = RandomForestRegressor(n_estimators = 100, random_state = 42)\n",
    "model.fit(X_train, y_train)\n",
    "\n",
    "y_pred = model.predict(X_test)\n",
    "\n",
    "mse = mean_squared_error(y_test, y_pred)\n",
    "rmse = np.sqrt(mse)\n",
    "r2 = r2_score(y_test, y_pred)\n",
    "print(\"Ortalama Kare Hata (MSE): \", mse)\n",
    "print(\"RMSE: \", rmse)\n",
    "print(\"R^2 skoru: \", r2)\n",
    "\n",
    "rf_params = {\"max_depth\": [3,5,7],\n",
    "             \"max_features\": [2,4,6],\n",
    "             \"n_estimators\": [100,200,300],\n",
    "             \"min_samples_split\": [2,5,10]}\n",
    "\n",
    "rf_cv_model = GridSearchCV(model, rf_params, cv=10, n_jobs = -1, verbose = 2).fit(X_train, y_train)\n",
    "print(\"Best params değerleri: \", rf_cv_model.best_params_)\n",
    "\n",
    "rf_model = RandomForestRegressor(random_state = 42,\n",
    "                                 max_depth = 8,\n",
    "                                 max_features = 2,\n",
    "                                 min_samples_split = 2,\n",
    "                                 n_estimators = 200)\n",
    "rf_tuned = rf_model.fit(X_train, y_train)\n",
    "print(\"Tuned edilmiş model: \", rf_tuned)\n",
    "y_pred = rf_tuned.predict(X_test)\n",
    "print(\"Tune edilmiş modelin test RMSE hata değeri: \", np.sqrt(mean_squared_error(y_test, y_pred)))"
   ]
  },
  {
   "cell_type": "code",
   "execution_count": 2,
   "metadata": {},
   "outputs": [
    {
     "name": "stdout",
     "output_type": "stream",
     "text": [
      "Değişkenlerin önem Dereceleri:  [7.26302765e+00 2.44268006e+01 6.74804420e+00 8.34192585e+00\n",
      " 2.55439398e+01 1.67575544e+01 1.09077719e+01 1.09355532e-02]\n"
     ]
    },
    {
     "data": {
      "image/png": "[encoded data removed]",
      "text/plain": [
       "<Figure size 640x480 with 1 Axes>"
      ]
     },
     "metadata": {},
     "output_type": "display_data"
    }
   ],
   "source": [
    "importances = model.feature_importances_*100\n",
    "print(\"Değişkenlerin önem Dereceleri: \", importances)\n",
    "\n",
    "Importance = pd.DataFrame({'Importance':rf_tuned.feature_importances_*100},\n",
    "                          index = X_train.columns)\n",
    "\n",
    "Importance.sort_values(by = 'Importance',\n",
    "                       axis = 0,\n",
    "                       ascending = True).plot(kind = 'barh',\n",
    "                                              color = 'r', )\n",
    "                \n",
    "plt.xlabel('Variable Importance')\n",
    "plt.gca().legend_ = None"
   ]
  }
 ],
 "metadata": {
  "kernelspec": {
   "display_name": "Python 3",
   "language": "python",
   "name": "python3"
  },
  "language_info": {
   "codemirror_mode": {
    "name": "ipython",
    "version": 3
   },
   "file_extension": ".py",
   "mimetype": "text/x-python",
   "name": "python",
   "nbconvert_exporter": "python",
   "pygments_lexer": "ipython3",
   "version": "3.12.4"
  }
 },
 "nbformat": 4,
 "nbformat_minor": 2
}

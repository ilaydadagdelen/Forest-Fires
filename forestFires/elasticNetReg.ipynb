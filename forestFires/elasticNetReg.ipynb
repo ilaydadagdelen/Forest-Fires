{
 "cells": [
  {
   "cell_type": "code",
   "execution_count": 1,
   "metadata": {},
   "outputs": [
    {
     "name": "stdout",
     "output_type": "stream",
     "text": [
      "Ortalama Kare Hata (MSE):  11792.40315024066\n",
      "RMSE:  108.59283194686775\n",
      "R^2 skoru:  -0.0003937159134261847\n",
      "Katsayılar:  [-0.06791486  0.11183229 -0.01324278 -0.25184304  0.38087064 -0.15158648\n",
      "  0.53246224 -0.        ]\n",
      "intercept:  11.65798805167194\n",
      "Tune edilmiş alpha:  18.02190354666927\n",
      "Tune edilmiş intercept:  12.219256770475418\n",
      "Tune edilmiş katsayılar:  [-0.          0.11031159 -0.01104191 -0.          0.         -0.16588114\n",
      "  0.         -0.        ]\n",
      "Final model test RMSE hatası:  108.78070963826742\n"
     ]
    }
   ],
   "source": [
    "import pandas as pd\n",
    "import numpy as np\n",
    "from sklearn.model_selection import train_test_split\n",
    "from sklearn.linear_model import ElasticNet, ElasticNetCV\n",
    "from sklearn.metrics import mean_squared_error, r2_score\n",
    "\n",
    "\n",
    "data = pd.read_csv('forestfires.csv')\n",
    "\n",
    "X = data[['FFMC', 'DMC', 'DC', 'ISI', 'temp', 'RH', 'wind', 'rain']]\n",
    "y = data['area']\n",
    "\n",
    "X_train, X_test, y_train, y_test = train_test_split(X, y, test_size=0.2, random_state=42)\n",
    "\n",
    "model = ElasticNet(alpha=1.0, l1_ratio=0.5) \n",
    "model.fit(X_train, y_train)\n",
    "\n",
    "y_pred = model.predict(X_test)\n",
    "\n",
    "mse = mean_squared_error(y_test, y_pred)\n",
    "rmse = np.sqrt(mse)\n",
    "r2 = r2_score(y_test, y_pred)\n",
    "print(\"Ortalama Kare Hata (MSE): \", mse)\n",
    "print(\"RMSE: \", rmse)\n",
    "print(\"R^2 skoru: \", r2)\n",
    "\n",
    "print(\"Katsayılar: \", model.coef_)\n",
    "\n",
    "print(\"intercept: \", model.intercept_)\n",
    "\n",
    "enet_cv_model = ElasticNetCV(cv = 10).fit(X_train, y_train)\n",
    "print(\"Tune edilmiş alpha: \", enet_cv_model.alpha_)\n",
    "print(\"Tune edilmiş intercept: \", enet_cv_model.intercept_)\n",
    "print(\"Tune edilmiş katsayılar: \", enet_cv_model.coef_)\n",
    "\n",
    "enet_tuned = ElasticNet(alpha = enet_cv_model.alpha_).fit(X_train, y_train)\n",
    "y_pred = enet_tuned.predict(X_test)\n",
    "print(\"Final model test RMSE hatası: \", np.sqrt(mean_squared_error(y_test, y_pred)))"
   ]
  }
 ],
 "metadata": {
  "kernelspec": {
   "display_name": "Python 3",
   "language": "python",
   "name": "python3"
  },
  "language_info": {
   "codemirror_mode": {
    "name": "ipython",
    "version": 3
   },
   "file_extension": ".py",
   "mimetype": "text/x-python",
   "name": "python",
   "nbconvert_exporter": "python",
   "pygments_lexer": "ipython3",
   "version": "3.12.4"
  }
 },
 "nbformat": 4,
 "nbformat_minor": 2
}

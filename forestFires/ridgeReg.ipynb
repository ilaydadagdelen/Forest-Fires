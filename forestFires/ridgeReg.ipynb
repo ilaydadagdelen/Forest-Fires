{
 "cells": [
  {
   "cell_type": "code",
   "execution_count": 3,
   "metadata": {},
   "outputs": [
    {
     "name": "stdout",
     "output_type": "stream",
     "text": [
      "Ortalama Kare Hata (MSE):  11780.057279349217\n",
      "RMSE:  108.53597228269169\n",
      "R^2 skoru:  0.0006536305434345913\n",
      "Katsayılar:  [-0.06005938  0.11070324 -0.01326798 -0.36030396  0.49111815 -0.13571996\n",
      "  0.87838834 -1.70888865]\n",
      "intercept:  7.904204875929448\n"
     ]
    }
   ],
   "source": [
    "import pandas as pd\n",
    "import numpy as np\n",
    "from sklearn.model_selection import train_test_split\n",
    "from sklearn.linear_model import Ridge\n",
    "from sklearn.metrics import mean_squared_error, r2_score\n",
    "\n",
    "\n",
    "data = pd.read_csv('forestfires.csv')\n",
    "\n",
    "X = data[['FFMC', 'DMC', 'DC', 'ISI', 'temp', 'RH', 'wind', 'rain']]\n",
    "y = data['area']\n",
    "\n",
    "X_train, X_test, y_train, y_test = train_test_split(X, y, test_size=0.2, random_state=42)\n",
    "\n",
    "model = Ridge(alpha=1.0)  \n",
    "model.fit(X_train, y_train)\n",
    "\n",
    "y_pred = model.predict(X_test)\n",
    "\n",
    "mse = mean_squared_error(y_test, y_pred)\n",
    "rmse = np.sqrt(mse)\n",
    "r2 = r2_score(y_test, y_pred)\n",
    "print(\"Ortalama Kare Hata (MSE): \", mse)\n",
    "print(\"RMSE: \", rmse)\n",
    "print(\"R^2 skoru: \", r2)\n",
    "\n",
    "print(\"Katsayılar: \", model.coef_)\n",
    "\n",
    "print(\"intercept: \", model.intercept_)"
   ]
  }
 ],
 "metadata": {
  "kernelspec": {
   "display_name": "Python 3",
   "language": "python",
   "name": "python3"
  },
  "language_info": {
   "codemirror_mode": {
    "name": "ipython",
    "version": 3
   },
   "file_extension": ".py",
   "mimetype": "text/x-python",
   "name": "python",
   "nbconvert_exporter": "python",
   "pygments_lexer": "ipython3",
   "version": "3.12.4"
  }
 },
 "nbformat": 4,
 "nbformat_minor": 2
}
